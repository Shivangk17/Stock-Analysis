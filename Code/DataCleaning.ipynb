{
 "cells": [
  {
   "cell_type": "code",
   "execution_count": 2,
   "metadata": {},
   "outputs": [],
   "source": [
    "import numpy as np\n",
    "import pandas as pd "
   ]
  },
  {
   "cell_type": "markdown",
   "metadata": {},
   "source": [
    "## Merging and Importing Bank Nifty CSV file."
   ]
  },
  {
   "cell_type": "code",
   "execution_count": 3,
   "metadata": {},
   "outputs": [
    {
     "name": "stdout",
     "output_type": "stream",
     "text": [
      "             Date      Open      High       Low     Close    P/E   P/B  \\\n",
      "0     12 Aug 2022  38942.45  39088.90  38739.95  39042.30  17.94  2.56   \n",
      "1     11 Aug 2022  38712.95  38932.10  38648.90  38879.85  17.87  2.57   \n",
      "2     10 Aug 2022  38298.85  38402.95  38155.30  38287.85  17.60  2.59   \n",
      "3     08 Aug 2022  37847.35  38302.35  37681.45  38237.40  17.58  2.59   \n",
      "4     05 Aug 2022  37868.25  38150.45  37779.90  37920.60  17.43  2.56   \n",
      "...           ...       ...       ...       ...       ...    ...   ...   \n",
      "5618  07 Jan 2000       NaN       NaN       NaN   1126.90  12.18  1.36   \n",
      "5619  06 Jan 2000       NaN       NaN       NaN   1086.60  11.74  1.31   \n",
      "5620  05 Jan 2000       NaN       NaN       NaN   1055.90  11.41  1.27   \n",
      "5621  04 Jan 2000       NaN       NaN       NaN   1092.00   11.8  1.32   \n",
      "5622  03 Jan 2000       NaN       NaN       NaN   1054.80   11.4  1.27   \n",
      "\n",
      "     Div Yield %  \n",
      "0           0.75  \n",
      "1           0.75  \n",
      "2           0.72  \n",
      "3           0.72  \n",
      "4           0.58  \n",
      "...          ...  \n",
      "5618        2.16  \n",
      "5619        2.24  \n",
      "5620        2.31  \n",
      "5621        2.23  \n",
      "5622        2.31  \n",
      "\n",
      "[5623 rows x 8 columns]\n"
     ]
    }
   ],
   "source": [
    "df1 = pd.read_csv('C://Users/Viper_Pc/Downloads/Stock-Analysis-main/Stock-Analysis-main/Data/NIFTY BANK - HistoricalPE_PBDIV_Data.csv')\n",
    "df2 = pd.read_csv('C://Users/Viper_Pc/Downloads/Stock-Analysis-main/Stock-Analysis-main/Data/NIFTY BANK_Data.csv')\n",
    "merged_df = pd.merge(df2, df1, on='Date')\n",
    "print(merged_df)"
   ]
  },
  {
   "cell_type": "code",
   "execution_count": 4,
   "metadata": {},
   "outputs": [
    {
     "name": "stdout",
     "output_type": "stream",
     "text": [
      "<class 'pandas.core.frame.DataFrame'>\n",
      "RangeIndex: 5623 entries, 0 to 5622\n",
      "Data columns (total 8 columns):\n",
      " #   Column       Non-Null Count  Dtype  \n",
      "---  ------       --------------  -----  \n",
      " 0   Date         5623 non-null   object \n",
      " 1   Open         4256 non-null   float64\n",
      " 2   High         4256 non-null   float64\n",
      " 3   Low          4256 non-null   float64\n",
      " 4   Close        5623 non-null   float64\n",
      " 5   P/E          5623 non-null   object \n",
      " 6   P/B          5623 non-null   float64\n",
      " 7   Div Yield %  5623 non-null   object \n",
      "dtypes: float64(5), object(3)\n",
      "memory usage: 351.6+ KB\n"
     ]
    }
   ],
   "source": [
    "merged_df.info()"
   ]
  },
  {
   "cell_type": "markdown",
   "metadata": {},
   "source": [
    "### Checking For Null Values"
   ]
  },
  {
   "cell_type": "code",
   "execution_count": 5,
   "metadata": {},
   "outputs": [
    {
     "data": {
      "text/plain": [
       "Date              0\n",
       "Open           1367\n",
       "High           1367\n",
       "Low            1367\n",
       "Close             0\n",
       "P/E               0\n",
       "P/B               0\n",
       "Div Yield %       0\n",
       "dtype: int64"
      ]
     },
     "execution_count": 5,
     "metadata": {},
     "output_type": "execute_result"
    }
   ],
   "source": [
    "merged_df.isnull().sum()"
   ]
  },
  {
   "cell_type": "markdown",
   "metadata": {},
   "source": [
    "### Droping Null Columns from Bank Nifty File"
   ]
  },
  {
   "cell_type": "code",
   "execution_count": 6,
   "metadata": {},
   "outputs": [
    {
     "data": {
      "text/plain": [
       "Date           0\n",
       "Open           0\n",
       "High           0\n",
       "Low            0\n",
       "Close          0\n",
       "P/E            0\n",
       "P/B            0\n",
       "Div Yield %    0\n",
       "dtype: int64"
      ]
     },
     "execution_count": 6,
     "metadata": {},
     "output_type": "execute_result"
    }
   ],
   "source": [
    "merged_df.dropna(inplace=True)\n",
    "merged_df.isnull().sum()"
   ]
  },
  {
   "cell_type": "code",
   "execution_count": 7,
   "metadata": {
    "scrolled": true
   },
   "outputs": [
    {
     "data": {
      "text/html": [
       "<div>\n",
       "<style scoped>\n",
       "    .dataframe tbody tr th:only-of-type {\n",
       "        vertical-align: middle;\n",
       "    }\n",
       "\n",
       "    .dataframe tbody tr th {\n",
       "        vertical-align: top;\n",
       "    }\n",
       "\n",
       "    .dataframe thead th {\n",
       "        text-align: right;\n",
       "    }\n",
       "</style>\n",
       "<table border=\"1\" class=\"dataframe\">\n",
       "  <thead>\n",
       "    <tr style=\"text-align: right;\">\n",
       "      <th></th>\n",
       "      <th>Open</th>\n",
       "      <th>High</th>\n",
       "      <th>Low</th>\n",
       "      <th>Close</th>\n",
       "      <th>P/B</th>\n",
       "    </tr>\n",
       "  </thead>\n",
       "  <tbody>\n",
       "    <tr>\n",
       "      <th>count</th>\n",
       "      <td>4256.000000</td>\n",
       "      <td>4256.000000</td>\n",
       "      <td>4256.000000</td>\n",
       "      <td>4256.000000</td>\n",
       "      <td>4256.000000</td>\n",
       "    </tr>\n",
       "    <tr>\n",
       "      <th>mean</th>\n",
       "      <td>16326.298790</td>\n",
       "      <td>16466.047171</td>\n",
       "      <td>16163.354852</td>\n",
       "      <td>16315.955028</td>\n",
       "      <td>2.529492</td>\n",
       "    </tr>\n",
       "    <tr>\n",
       "      <th>std</th>\n",
       "      <td>9861.139384</td>\n",
       "      <td>9919.350113</td>\n",
       "      <td>9785.840579</td>\n",
       "      <td>9854.340127</td>\n",
       "      <td>0.527581</td>\n",
       "    </tr>\n",
       "    <tr>\n",
       "      <th>min</th>\n",
       "      <td>3385.400000</td>\n",
       "      <td>3446.750000</td>\n",
       "      <td>3314.550000</td>\n",
       "      <td>3339.700000</td>\n",
       "      <td>0.970000</td>\n",
       "    </tr>\n",
       "    <tr>\n",
       "      <th>25%</th>\n",
       "      <td>8808.162500</td>\n",
       "      <td>8915.500000</td>\n",
       "      <td>8646.000000</td>\n",
       "      <td>8760.775000</td>\n",
       "      <td>2.220000</td>\n",
       "    </tr>\n",
       "    <tr>\n",
       "      <th>50%</th>\n",
       "      <td>12563.450000</td>\n",
       "      <td>12671.200000</td>\n",
       "      <td>12458.375000</td>\n",
       "      <td>12558.500000</td>\n",
       "      <td>2.510000</td>\n",
       "    </tr>\n",
       "    <tr>\n",
       "      <th>75%</th>\n",
       "      <td>24305.525000</td>\n",
       "      <td>24414.637500</td>\n",
       "      <td>24097.525000</td>\n",
       "      <td>24275.250000</td>\n",
       "      <td>2.880000</td>\n",
       "    </tr>\n",
       "    <tr>\n",
       "      <th>max</th>\n",
       "      <td>41234.550000</td>\n",
       "      <td>41829.600000</td>\n",
       "      <td>40829.150000</td>\n",
       "      <td>41238.300000</td>\n",
       "      <td>4.730000</td>\n",
       "    </tr>\n",
       "  </tbody>\n",
       "</table>\n",
       "</div>"
      ],
      "text/plain": [
       "               Open          High           Low         Close          P/B\n",
       "count   4256.000000   4256.000000   4256.000000   4256.000000  4256.000000\n",
       "mean   16326.298790  16466.047171  16163.354852  16315.955028     2.529492\n",
       "std     9861.139384   9919.350113   9785.840579   9854.340127     0.527581\n",
       "min     3385.400000   3446.750000   3314.550000   3339.700000     0.970000\n",
       "25%     8808.162500   8915.500000   8646.000000   8760.775000     2.220000\n",
       "50%    12563.450000  12671.200000  12458.375000  12558.500000     2.510000\n",
       "75%    24305.525000  24414.637500  24097.525000  24275.250000     2.880000\n",
       "max    41234.550000  41829.600000  40829.150000  41238.300000     4.730000"
      ]
     },
     "execution_count": 7,
     "metadata": {},
     "output_type": "execute_result"
    }
   ],
   "source": [
    "merged_df.describe()"
   ]
  },
  {
   "cell_type": "markdown",
   "metadata": {},
   "source": [
    "## Importing Different Bank Stocks Present in Nifty."
   ]
  },
  {
   "cell_type": "code",
   "execution_count": null,
   "metadata": {},
   "outputs": [],
   "source": [
    "axsBank=pd.read_csv(\"C:/Users/jainam/Stock Analysis/Data/AXISBANK.NS_data.csv\")\n",
    "iciciBank=pd.read_csv(\"C:/Users/jainam/Stock Analysis/Data/ICICIBANK.NS_data.csv\")\n",
    "indusindBank=pd.read_csv(\"C:/Users/jainam/Stock Analysis/Data/INDUSINDBK.NS_data.csv\")\n",
    "hdfcBank=pd.read_csv(\"C:/Users/jainam/Stock Analysis/Data/HDFCBANK.NS_data.csv\")\n",
    "kotakBank=pd.read_csv(\"C:/Users/jainam/Stock Analysis/Data/KOTAKBANK.NS_data.csv\")"
   ]
  },
  {
   "cell_type": "code",
   "execution_count": null,
   "metadata": {},
   "outputs": [],
   "source": [
    "axsBank"
   ]
  },
  {
   "cell_type": "code",
   "execution_count": null,
   "metadata": {},
   "outputs": [],
   "source": [
    "iciciBank"
   ]
  },
  {
   "cell_type": "code",
   "execution_count": null,
   "metadata": {},
   "outputs": [],
   "source": [
    "indusindBank"
   ]
  },
  {
   "cell_type": "code",
   "execution_count": null,
   "metadata": {},
   "outputs": [],
   "source": [
    "kotakBank"
   ]
  },
  {
   "cell_type": "code",
   "execution_count": null,
   "metadata": {},
   "outputs": [],
   "source": [
    "hdfcBank"
   ]
  },
  {
   "cell_type": "markdown",
   "metadata": {},
   "source": [
    "### Checking For Null Values"
   ]
  },
  {
   "cell_type": "code",
   "execution_count": null,
   "metadata": {},
   "outputs": [],
   "source": [
    "axsBank.isnull().sum()"
   ]
  },
  {
   "cell_type": "code",
   "execution_count": null,
   "metadata": {},
   "outputs": [],
   "source": [
    "kotakBank.isnull().sum()"
   ]
  },
  {
   "cell_type": "code",
   "execution_count": null,
   "metadata": {},
   "outputs": [],
   "source": [
    "iciciBank.isnull().sum()"
   ]
  },
  {
   "cell_type": "code",
   "execution_count": null,
   "metadata": {},
   "outputs": [],
   "source": [
    "indusindBank.isnull().sum()"
   ]
  },
  {
   "cell_type": "code",
   "execution_count": null,
   "metadata": {
    "scrolled": true
   },
   "outputs": [],
   "source": [
    "hdfcBank.isnull().sum()"
   ]
  },
  {
   "cell_type": "code",
   "execution_count": null,
   "metadata": {},
   "outputs": [],
   "source": [
    "axsBank['Symbol']='AXISBANK'\n",
    "indusindBank['Symbol']='INDUSINDBK'\n",
    "kotakBank['Symbol']='KOTAKBANK'\n",
    "iciciBank['Symbol']='ICICIBANK'\n",
    "hdfcBank['Symbol']='HDFCBANK'"
   ]
  },
  {
   "cell_type": "code",
   "execution_count": null,
   "metadata": {},
   "outputs": [],
   "source": [
    "merged_df['Symbol']='BankNifty'\n",
    "merged_df"
   ]
  },
  {
   "cell_type": "code",
   "execution_count": null,
   "metadata": {},
   "outputs": [],
   "source": [
    "# merged_df.drop(['P/E','P/B'],axis=1,inplace=True)\n",
    "merged_df"
   ]
  },
  {
   "cell_type": "code",
   "execution_count": null,
   "metadata": {},
   "outputs": [],
   "source": [
    "merged_df['Date'] = pd.to_datetime(merged_df['Date'])\n",
    "filtered_df = merged_df[merged_df['Date'] >= pd.to_datetime('2012-02-01')]\n",
    "filtered_df"
   ]
  },
  {
   "cell_type": "code",
   "execution_count": null,
   "metadata": {},
   "outputs": [],
   "source": [
    "filtered_df['Date'] = filtered_df['Date'].dt.date\n",
    "filtered_df['Date'] = filtered_df['Date'].apply(lambda x: x.strftime('%d-%m-%Y'))\n",
    "filtered_df"
   ]
  },
  {
   "cell_type": "markdown",
   "metadata": {},
   "source": [
    "## Here We Have Cleaned All The data Files We Needed! Now Let's Save It in actual File. "
   ]
  },
  {
   "cell_type": "code",
   "execution_count": null,
   "metadata": {},
   "outputs": [],
   "source": [
    "filtered_df.to_csv('C:/Users/jainam/Stock Analysis/Data/BANK NIFTY.csv', index=False)\n",
    "axsBank.to_csv(\"C:/Users/jainam/Stock Analysis/Data/AXISBANK.NS_data.csv\", index=False)\n",
    "iciciBank.to_csv(\"C:/Users/jainam/Stock Analysis/Data/ICICIBANK.NS_data.csv\", index=False)\n",
    "indusindBank.to_csv(\"C:/Users/jainam/Stock Analysis/Data/INDUSINDBK.NS_data.csv\", index=False)\n",
    "kotakBank.to_csv(\"C:/Users/jainam/Stock Analysis/Data/KOTAKBANK.NS_data.csv\", index=False)\n",
    "hdfcBank.to_csv(\"C:/Users/jainam/Stock Analysis/Data/HDFCBANK.NS_data.csv\", index=False)"
   ]
  },
  {
   "cell_type": "code",
   "execution_count": null,
   "metadata": {},
   "outputs": [],
   "source": [
    "indusindBank"
   ]
  },
  {
   "cell_type": "code",
   "execution_count": null,
   "metadata": {},
   "outputs": [],
   "source": []
  }
 ],
 "metadata": {
  "kernelspec": {
   "display_name": "Python 3 (ipykernel)",
   "language": "python",
   "name": "python3"
  },
  "language_info": {
   "codemirror_mode": {
    "name": "ipython",
    "version": 3
   },
   "file_extension": ".py",
   "mimetype": "text/x-python",
   "name": "python",
   "nbconvert_exporter": "python",
   "pygments_lexer": "ipython3",
   "version": "3.11.7"
  }
 },
 "nbformat": 4,
 "nbformat_minor": 4
}
